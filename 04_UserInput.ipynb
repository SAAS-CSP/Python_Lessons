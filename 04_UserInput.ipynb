{
 "cells": [
  {
   "cell_type": "markdown",
   "metadata": {},
   "source": [
    "# User Input<a id=\"top\"></a>\n",
    "\n",
    "Friendly Formatted \n",
    "Printing the Question before \n",
    " "
   ]
  },
  {
   "cell_type": "markdown",
   "metadata": {},
   "source": [
    "<hr>"
   ]
  },
  {
   "cell_type": "markdown",
   "metadata": {},
   "source": [
    "   #### Python allows for user input from the keyboard.\n",
    "   \n",
    "   #### That means you can ask the user to enter information.\n",
    "   \n"
   ]
  },
  {
   "cell_type": "code",
   "execution_count": 1,
   "metadata": {},
   "outputs": [
    {
     "name": "stdout",
     "output_type": "stream",
     "text": [
      "Enter name: Dave\n",
      "Dave\n"
     ]
    }
   ],
   "source": [
    "userName = input(\"Enter name: \")\n",
    "print(userName)"
   ]
  },
  {
   "cell_type": "code",
   "execution_count": 2,
   "metadata": {},
   "outputs": [
    {
     "name": "stdout",
     "output_type": "stream",
     "text": [
      "Enter username:Dave\n",
      "Username is: Dave\n"
     ]
    }
   ],
   "source": [
    "username = input(\"Enter username:\")\n",
    "print(\"Username is: \" + username)"
   ]
  },
  {
   "cell_type": "markdown",
   "metadata": {},
   "source": [
    "##### Friendly formatted "
   ]
  },
  {
   "cell_type": "code",
   "execution_count": 10,
   "metadata": {},
   "outputs": [
    {
     "name": "stdout",
     "output_type": "stream",
     "text": [
      "Hello\n",
      "What is your first name? Dave\n",
      "Thanks.\n",
      "What is your surname? Smith\n",
      "Welcome Dave Smith I hope you're well today.\n"
     ]
    }
   ],
   "source": [
    "print(\"Hello\")\n",
    "firstName = input(\"What is your first name? \")\n",
    "\n",
    "print(\"Thanks.\")\n",
    "surName = input(\"What is your surname? \")\n",
    "\n",
    "print(\"Welcome\", firstName, surName, \"I hope you're well today.\")"
   ]
  },
  {
   "cell_type": "markdown",
   "metadata": {},
   "source": [
    "<hr>"
   ]
  },
  {
   "cell_type": "markdown",
   "metadata": {},
   "source": [
    "##### Printing the question before Input()"
   ]
  },
  {
   "cell_type": "code",
   "execution_count": 11,
   "metadata": {},
   "outputs": [
    {
     "name": "stdout",
     "output_type": "stream",
     "text": [
      "Hello, What's your first name? \n",
      "Dave\n"
     ]
    }
   ],
   "source": [
    "print(\"Hello, What's your first name? \")\n",
    "firstName = input()"
   ]
  },
  {
   "cell_type": "code",
   "execution_count": 12,
   "metadata": {},
   "outputs": [
    {
     "name": "stdout",
     "output_type": "stream",
     "text": [
      "Halt! Who goes there? \n",
      "Dave\n"
     ]
    }
   ],
   "source": [
    "print(\"Halt! Who goes there? \")\n",
    "name=input()"
   ]
  },
  {
   "cell_type": "markdown",
   "metadata": {},
   "source": [
    "<hr>"
   ]
  },
  {
   "cell_type": "markdown",
   "metadata": {},
   "source": [
    "##### Multiple User Input Questions "
   ]
  },
  {
   "cell_type": "code",
   "execution_count": 17,
   "metadata": {},
   "outputs": [
    {
     "name": "stdout",
     "output_type": "stream",
     "text": [
      "Input a rate and a distance\n",
      "Rate: 55\n",
      "Distance: 30\n",
      "Time: 0.5454545454545454\n"
     ]
    }
   ],
   "source": [
    "# Code to calculate rate and distance\n",
    "\n",
    "print(\"Input a rate and a distance\")\n",
    "\n",
    "rate = float(input(\"Rate: \"))\n",
    "\n",
    "distance = float(input(\"Distance: \"))\n",
    "\n",
    "print(\"Time:\", (distance / rate))"
   ]
  },
  {
   "cell_type": "markdown",
   "metadata": {},
   "source": [
    "<hr>"
   ]
  },
  {
   "cell_type": "markdown",
   "metadata": {},
   "source": [
    "##### Decision based on User Input"
   ]
  },
  {
   "cell_type": "code",
   "execution_count": 20,
   "metadata": {},
   "outputs": [
    {
     "name": "stdout",
     "output_type": "stream",
     "text": [
      "What is your name? Dave\n",
      "Welcome, good sir. You may enter!\n"
     ]
    }
   ],
   "source": [
    "name = input(\"What is your name? \")\n",
    "\n",
    "if name == \"Dave\":\n",
    "    print(\"Welcome, good sir. You may enter!\")\n",
    "else:\n",
    "    print(\"Who are you?\")"
   ]
  },
  {
   "cell_type": "markdown",
   "metadata": {},
   "source": [
    "<hr>"
   ]
  },
  {
   "cell_type": "markdown",
   "metadata": {},
   "source": [
    "## Resources<a id=\"resources\"><a/>"
   ]
  },
  {
   "cell_type": "markdown",
   "metadata": {},
   "source": [
    "#### Sources for deeper learning:\n",
    "\n",
    "   1. <a href=\"https://www.w3schools.com/python/python_user_input.asp\">W3Schools.com</a> Python User Input\n",
    "\n",
    "\n",
    "   2. Getting <a href=\"https://www.youtube.com/watch?v=1gEZi0uJ3sw\">Input</a> from users. YouTube.com\n",
    "\n",
    "\n",
    "#### Sources used in this document:\n",
    "  \n",
    "   Python <a href=\"https://www.w3schools.com/python/python_user_input.asp\">User Input</a> from W3Schools.com\n",
    "   \n"
   ]
  }
 ],
 "metadata": {
  "kernelspec": {
   "display_name": "Python 3",
   "language": "python",
   "name": "python3"
  },
  "language_info": {
   "codemirror_mode": {
    "name": "ipython",
    "version": 3
   },
   "file_extension": ".py",
   "mimetype": "text/x-python",
   "name": "python",
   "nbconvert_exporter": "python",
   "pygments_lexer": "ipython3",
   "version": "3.7.3"
  }
 },
 "nbformat": 4,
 "nbformat_minor": 2
}
