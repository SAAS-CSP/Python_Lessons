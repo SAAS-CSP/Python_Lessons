{
 "cells": [
  {
   "cell_type": "markdown",
   "metadata": {},
   "source": [
    "# Comments\n",
    "\n",
    "## Single line & Multi line comments"
   ]
  },
  {
   "cell_type": "markdown",
   "metadata": {},
   "source": [
    "<hr>"
   ]
  },
  {
   "cell_type": "markdown",
   "metadata": {},
   "source": [
    "## Why use comments?\n",
    "\n",
    "Many good programmers use comments to make their programs easier to understand as well as describe variables. Comments are great for programmers to explain what their code is doing and how to manipulate variables to enhance or tweak the app.  It is a great way to ensure longevity of your application.  If people can understand and manipulate it for their needs, it will be used for a longer time.   \n",
    "\n",
    "Comments are ignored by the compiler and do not impact the performance of the app. \n",
    "\n",
    "It is always good practice to start off with basic information including your name, date, and a description of what is going on in this app."
   ]
  },
  {
   "cell_type": "markdown",
   "metadata": {},
   "source": [
    "Single Line Comments:"
   ]
  },
  {
   "cell_type": "code",
   "execution_count": null,
   "metadata": {},
   "outputs": [],
   "source": [
    "#   Ernie Drumm, 9/27/2020\n",
    "#  This app was created to do some really cool things. "
   ]
  },
  {
   "cell_type": "markdown",
   "metadata": {},
   "source": [
    "<br>"
   ]
  },
  {
   "cell_type": "markdown",
   "metadata": {},
   "source": [
    "Multi Line Comments:"
   ]
  },
  {
   "cell_type": "code",
   "execution_count": 11,
   "metadata": {},
   "outputs": [],
   "source": [
    "\"\"\" \n",
    "    Ernie Drumm, 9/27/2020\n",
    "\n",
    "    This app does come really cool things.  See instructions and explainations throughout. \n",
    "\"\"\"\n"
   ]
  },
  {
   "cell_type": "markdown",
   "metadata": {},
   "source": [
    "<br>"
   ]
  },
  {
   "cell_type": "markdown",
   "metadata": {},
   "source": [
    "In-line comments"
   ]
  },
  {
   "cell_type": "code",
   "execution_count": null,
   "metadata": {},
   "outputs": [],
   "source": [
    "cars[0] = \"Toyota\"  # set index 0 to Toyota\n",
    "\n",
    "cars[1] = \"Audi\"    # Comments at the end of the line are ignored by interperter. "
   ]
  },
  {
   "cell_type": "markdown",
   "metadata": {},
   "source": [
    "<br>"
   ]
  },
  {
   "cell_type": "code",
   "execution_count": 12,
   "metadata": {},
   "outputs": [
    {
     "name": "stdout",
     "output_type": "stream",
     "text": [
      "a and b are equal\n"
     ]
    }
   ],
   "source": [
    "a = 33   # single = symbol is called an assignment operator..  33 is assigned to the variable 'a'\n",
    "b = 33   \n",
    "if b > a:\n",
    "  print(\"b is greater than a\")\n",
    "elif a == b:                     # the double == symbol is used as a literal equal. \n",
    "  print(\"a and b are equal\")"
   ]
  },
  {
   "cell_type": "markdown",
   "metadata": {},
   "source": [
    "<hr>"
   ]
  },
  {
   "cell_type": "markdown",
   "metadata": {},
   "source": [
    "## Comment out code\n",
    "\n",
    "Sometimes you need to break a problem down into manageable parts.  It is helpful to comment a few lines of code to help troubleshoot.   "
   ]
  },
  {
   "cell_type": "code",
   "execution_count": null,
   "metadata": {},
   "outputs": [],
   "source": [
    "\n",
    "ASCII_CHARS=[\"@\",\"#\",\"$\",\"%\",\"?\",\"*\",\"+\",\";\",\":\",\",\",\".\"]\n",
    "\n",
    "# ASCII_CHARS=[\"!\",\"@\",\"#\",\"$\",\"%\",\"^\",\"&\",\"?\",\"*\",\"+\",\";\",\":\",\",\",\".\"]\n",
    "\n"
   ]
  },
  {
   "cell_type": "code",
   "execution_count": null,
   "metadata": {},
   "outputs": [],
   "source": [
    "def resize_image(image, new_width=100):\n",
    "  width, height = image.size\n",
    "  ratio = height / width\n",
    "  new_height = int(new_width * ratio)\n",
    " \n",
    "  resized_image = image.resize((new_width, new_height))\n",
    "  # resized_image = image.resized((new_width, new_height))  spelling of \"resized\" vs \"resize\" caused the error\n",
    "\n",
    "    \n",
    "  return(resized_image)"
   ]
  },
  {
   "cell_type": "markdown",
   "metadata": {},
   "source": [
    "<hr>"
   ]
  },
  {
   "cell_type": "markdown",
   "metadata": {},
   "source": [
    "## Comments vs. NO Comments\n",
    "\n",
    "In the example below, see if you can figure out what is going on in the first block of code?  There is no comments.  \n",
    "\n",
    "In the second example, the programmer took great effort to ensure the audience understood what is going on with the code and gives many suggestions for futher learning.  "
   ]
  },
  {
   "cell_type": "code",
   "execution_count": null,
   "metadata": {},
   "outputs": [],
   "source": [
    "import matplotlib.pyplot as plt\n",
    "import matplotlib.image as mpimg\n",
    "img = mpimg.imread('/Users/mrdru/Desktop/Python/Clipart.png')\n",
    "print(img)\n",
    "imgplot = plt.imshow(img)\n",
    "lum_img = img[:, :, 0]\n",
    "plt.imshow(lum_img)\n",
    "plt.imshow(lum_img, cmap=\"hot\")\n",
    "imgplot = plt.imshow(lum_img)\n",
    "imgplot.set_cmap('nipy_spectral')\n",
    "imgplot = plt.imshow(lum_img)\n",
    "plt.colorbar()\n",
    "plt.hist(lum_img.ravel(), bins=256, range=(0.0, 1.0), fc='k', ec='k')\n",
    "imgplot = plt.imshow(lum_img, clim=(0.0, 0.7))\n",
    "fig = plt.figure()\n",
    "ax = fig.add_subplot(1, 2, 1)\n",
    "imgplot = plt.imshow(lum_img)\n",
    "ax.set_title('Before')\n",
    "plt.colorbar(ticks=[0.1, 0.3, 0.5, 0.7], orientation='horizontal')\n",
    "ax = fig.add_subplot(1, 2, 2)\n",
    "imgplot = plt.imshow(lum_img)\n",
    "imgplot.set_clim(0.0, 0.7)\n",
    "ax.set_title('After')\n",
    "plt.colorbar(ticks=[0.1, 0.3, 0.5, 0.7], orientation='horizontal')\n",
    "from PIL import Image\n",
    "img = Image.open('/Users/mrdru/Desktop/Python/Clipart.png')\n",
    "img.thumbnail((64, 64), Image.ANTIALIAS)  # resizes image in-place\n",
    "imgplot = plt.imshow(img)\n",
    "imgplot = plt.imshow(img, interpolation=\"nearest\")\n",
    "imgplot = plt.imshow(img, interpolation=\"bicubic\")"
   ]
  },
  {
   "cell_type": "markdown",
   "metadata": {},
   "source": [
    "Take the above code and add comments!  Lots of very informative and very useful comments!  Now see if the code is easier to understand?"
   ]
  },
  {
   "cell_type": "code",
   "execution_count": null,
   "metadata": {},
   "outputs": [],
   "source": [
    "\"\"\"\n",
    "==============\n",
    "Image tutorial\n",
    "==============\n",
    "\n",
    "A short tutorial on plotting images with Matplotlib.\n",
    "\n",
    ".. _imaging_startup:\n",
    "\n",
    "Startup commands\n",
    "===================\n",
    "\n",
    "First, let's start IPython.  It is a most excellent enhancement to the\n",
    "standard Python prompt, and it ties in especially well with\n",
    "Matplotlib.  Start IPython either directly at a shell, or with the Jupyter\n",
    "Notebook (where IPython as a running kernel).\n",
    "\n",
    "With IPython started, we now need to connect to a GUI event loop.  This\n",
    "tells IPython where (and how) to display plots.  To connect to a GUI\n",
    "loop, execute the **%matplotlib** magic at your IPython prompt.  There's more\n",
    "detail on exactly what this does at `IPython's documentation on GUI\n",
    "event loops\n",
    "<https://ipython.readthedocs.io/en/stable/interactive/reference.html#gui-event-loop-support>`_.\n",
    "\n",
    "If you're using Jupyter Notebook, the same commands are available, but\n",
    "people commonly use a specific argument to the %matplotlib magic:\n",
    "\n",
    ".. sourcecode:: ipython\n",
    "\n",
    "    In [1]: %matplotlib inline\n",
    "\n",
    "This turns on inline plotting, where plot graphics will appear in your\n",
    "notebook.  This has important implications for interactivity.  For inline plotting, commands in\n",
    "cells below the cell that outputs a plot will not affect the plot.  For example,\n",
    "changing the color map is not possible from cells below the cell that creates a plot.\n",
    "However, for other backends, such as Qt5, that open a separate window,\n",
    "cells below those that create the plot will change the plot - it is a\n",
    "live object in memory.\n",
    "\n",
    "This tutorial will use Matplotlib's imperative-style plotting\n",
    "interface, pyplot.  This interface maintains global state, and is very\n",
    "useful for quickly and easily experimenting with various plot\n",
    "settings.  The alternative is the object-oriented interface, which is also\n",
    "very powerful, and generally more suitable for large application\n",
    "development.  If you'd like to learn about the object-oriented\n",
    "interface, a great place to start is our :doc:`Usage guide\n",
    "</tutorials/introductory/usage>`.  For now, let's get on\n",
    "with the imperative-style approach:\n",
    "\"\"\"\n",
    "\n",
    "import matplotlib.pyplot as plt\n",
    "import matplotlib.image as mpimg\n",
    "\n",
    "###############################################################################\n",
    "# .. _importing_data:\n",
    "#\n",
    "# Importing image data into Numpy arrays\n",
    "# ======================================\n",
    "#\n",
    "# Matplotlib relies on the Pillow_ library to load image data.\n",
    "#\n",
    "# .. _Pillow: https://pillow.readthedocs.io/en/latest/\n",
    "#\n",
    "# Here's the image we're going to play with:\n",
    "#\n",
    "# .. image:: ../../_static/stinkbug.png\n",
    "#\n",
    "# It's a 24-bit RGB PNG image (8 bits for each of R, G, B).  Depending\n",
    "# on where you get your data, the other kinds of image that you'll most\n",
    "# likely encounter are RGBA images, which allow for transparency, or\n",
    "# single-channel grayscale (luminosity) images.  You can right click on\n",
    "# it and choose \"Save image as\" to download it to your computer for the\n",
    "# rest of this tutorial.\n",
    "#\n",
    "# And here we go...\n",
    "\n",
    "img = mpimg.imread('/Users/mrdru/Desktop/Python/Clipart.png')\n",
    "# my hero https://www.vhv.rs/dpng/d/418-4180695_true-form-all-might-action-figure-hd-png.png\n",
    "\n",
    "\n",
    "# img = mpimg.imread('C:\\Users\\mrdru\\Pictures\\ASCII_ART\\space.png')\n",
    "# img = mpimg.imread('../../doc/_static/stinkbug.png')\n",
    "\n",
    "print(img)\n",
    "\n",
    "###############################################################################\n",
    "# Note the dtype there - float32.  Matplotlib has rescaled the 8 bit\n",
    "# data from each channel to floating point data between 0.0 and 1.0.  As\n",
    "# a side note, the only datatype that Pillow can work with is uint8.\n",
    "# Matplotlib plotting can handle float32 and uint8, but image\n",
    "# reading/writing for any format other than PNG is limited to uint8\n",
    "# data.  Why 8 bits? Most displays can only render 8 bits per channel\n",
    "# worth of color gradation.  Why can they only render 8 bits/channel?\n",
    "# Because that's about all the human eye can see.  More here (from a\n",
    "# photography standpoint): `Luminous Landscape bit depth tutorial\n",
    "# <https://luminous-landscape.com/bit-depth/>`_.\n",
    "#\n",
    "# Each inner list represents a pixel.  Here, with an RGB image, there\n",
    "# are 3 values.  Since it's a black and white image, R, G, and B are all\n",
    "# similar.  An RGBA (where A is alpha, or transparency), has 4 values\n",
    "# per inner list, and a simple luminance image just has one value (and\n",
    "# is thus only a 2-D array, not a 3-D array).  For RGB and RGBA images,\n",
    "# Matplotlib supports float32 and uint8 data types.  For grayscale,\n",
    "# Matplotlib supports only float32.  If your array data does not meet\n",
    "# one of these descriptions, you need to rescale it.\n",
    "#\n",
    "# .. _plotting_data:\n",
    "#\n",
    "# Plotting numpy arrays as images\n",
    "# ===================================\n",
    "#\n",
    "# So, you have your data in a numpy array (either by importing it, or by\n",
    "# generating it).  Let's render it.  In Matplotlib, this is performed\n",
    "# using the :func:`~matplotlib.pyplot.imshow` function.  Here we'll grab\n",
    "# the plot object.  This object gives you an easy way to manipulate the\n",
    "# plot from the prompt.\n",
    "\n",
    "imgplot = plt.imshow(img)\n",
    "\n",
    "###############################################################################\n",
    "# You can also plot any numpy array.\n",
    "#\n",
    "# .. _Pseudocolor:\n",
    "#\n",
    "# Applying pseudocolor schemes to image plots\n",
    "# -------------------------------------------------\n",
    "#\n",
    "# Pseudocolor can be a useful tool for enhancing contrast and\n",
    "# visualizing your data more easily.  This is especially useful when\n",
    "# making presentations of your data using projectors - their contrast is\n",
    "# typically quite poor.\n",
    "#\n",
    "# Pseudocolor is only relevant to single-channel, grayscale, luminosity\n",
    "# images.  We currently have an RGB image.  Since R, G, and B are all\n",
    "# similar (see for yourself above or in your data), we can just pick one\n",
    "# channel of our data:\n",
    "\n",
    "lum_img = img[:, :, 0]\n",
    "\n",
    "# This is array slicing.  You can read more in the `Numpy tutorial\n",
    "# <https://docs.scipy.org/doc/numpy/user/quickstart.html>`_.\n",
    "\n",
    "plt.imshow(lum_img)\n",
    "\n",
    "###############################################################################\n",
    "# Now, with a luminosity (2D, no color) image, the default colormap (aka lookup table,\n",
    "# LUT), is applied.  The default is called viridis.  There are plenty of\n",
    "# others to choose from.\n",
    "\n",
    "plt.imshow(lum_img, cmap=\"hot\")\n",
    "\n",
    "###############################################################################\n",
    "# Note that you can also change colormaps on existing plot objects using the\n",
    "# :meth:`~matplotlib.cm.ScalarMappable.set_cmap` method:\n",
    "\n",
    "imgplot = plt.imshow(lum_img)\n",
    "imgplot.set_cmap('nipy_spectral')\n",
    "\n",
    "###############################################################################\n",
    "#\n",
    "# .. note::\n",
    "#\n",
    "#    However, remember that in the Jupyter Notebook with the inline backend,\n",
    "#    you can't make changes to plots that have already been rendered.  If you\n",
    "#    create imgplot here in one cell, you cannot call set_cmap() on it in a later\n",
    "#    cell and expect the earlier plot to change.  Make sure that you enter these\n",
    "#    commands together in one cell.  plt commands will not change plots from earlier\n",
    "#    cells.\n",
    "#\n",
    "# There are many other colormap schemes available.  See the `list and\n",
    "# images of the colormaps\n",
    "# <../colors/colormaps.html>`_.\n",
    "#\n",
    "# .. _`Color Bars`:\n",
    "#\n",
    "# Color scale reference\n",
    "# ------------------------\n",
    "#\n",
    "# It's helpful to have an idea of what value a color represents.  We can\n",
    "# do that by adding a color bar to your figure:\n",
    "\n",
    "imgplot = plt.imshow(lum_img)\n",
    "plt.colorbar()\n",
    "\n",
    "###############################################################################\n",
    "# .. _`Data ranges`:\n",
    "#\n",
    "# Examining a specific data range\n",
    "# ---------------------------------\n",
    "#\n",
    "# Sometimes you want to enhance the contrast in your image, or expand\n",
    "# the contrast in a particular region while sacrificing the detail in\n",
    "# colors that don't vary much, or don't matter.  A good tool to find\n",
    "# interesting regions is the histogram.  To create a histogram of our\n",
    "# image data, we use the :func:`~matplotlib.pyplot.hist` function.\n",
    "\n",
    "plt.hist(lum_img.ravel(), bins=256, range=(0.0, 1.0), fc='k', ec='k')\n",
    "\n",
    "###############################################################################\n",
    "# Most often, the \"interesting\" part of the image is around the peak,\n",
    "# and you can get extra contrast by clipping the regions above and/or\n",
    "# below the peak.  In our histogram, it looks like there's not much\n",
    "# useful information in the high end (not many white things in the\n",
    "# image).  Let's adjust the upper limit, so that we effectively \"zoom in\n",
    "# on\" part of the histogram.  We do this by passing the clim argument to\n",
    "# imshow.  You could also do this by calling the\n",
    "# :meth:`~matplotlib.cm.ScalarMappable.set_clim` method of the image plot\n",
    "# object, but make sure that you do so in the same cell as your plot\n",
    "# command when working with the Jupyter Notebook - it will not change\n",
    "# plots from earlier cells.\n",
    "#\n",
    "# You can specify the clim in the call to ``plot``.\n",
    "\n",
    "imgplot = plt.imshow(lum_img, clim=(0.0, 0.7))\n",
    "\n",
    "###############################################################################\n",
    "# You can also specify the clim using the returned object\n",
    "fig = plt.figure()\n",
    "ax = fig.add_subplot(1, 2, 1)\n",
    "imgplot = plt.imshow(lum_img)\n",
    "ax.set_title('Before')\n",
    "plt.colorbar(ticks=[0.1, 0.3, 0.5, 0.7], orientation='horizontal')\n",
    "ax = fig.add_subplot(1, 2, 2)\n",
    "\n",
    "imgplot = plt.imshow(lum_img)\n",
    "\n",
    "imgplot.set_clim(0.0, 0.7)\n",
    "\n",
    "ax.set_title('After')\n",
    "plt.colorbar(ticks=[0.1, 0.3, 0.5, 0.7], orientation='horizontal')\n",
    "\n",
    "###############################################################################\n",
    "# .. _Interpolation:\n",
    "#\n",
    "# Array Interpolation schemes\n",
    "# ---------------------------\n",
    "#\n",
    "# Interpolation calculates what the color or value of a pixel \"should\"\n",
    "# be, according to different mathematical schemes.  One common place\n",
    "# that this happens is when you resize an image.  The number of pixels\n",
    "# change, but you want the same information.  Since pixels are discrete,\n",
    "# there's missing space.  Interpolation is how you fill that space.\n",
    "# This is why your images sometimes come out looking pixelated when you\n",
    "# blow them up.  The effect is more pronounced when the difference\n",
    "# between the original image and the expanded image is greater.  Let's\n",
    "# take our image and shrink it.  We're effectively discarding pixels,\n",
    "# only keeping a select few.  Now when we plot it, that data gets blown\n",
    "# up to the size on your screen.  The old pixels aren't there anymore,\n",
    "# and the computer has to draw in pixels to fill that space.\n",
    "#\n",
    "# We'll use the Pillow library that we used to load the image also to resize\n",
    "# the image.\n",
    "\n",
    "from PIL import Image\n",
    "\n",
    "img = Image.open('/Users/mrdru/Desktop/Python/Clipart.png')\n",
    "img.thumbnail((64, 64), Image.ANTIALIAS)  # resizes image in-place\n",
    "imgplot = plt.imshow(img)\n",
    "\n",
    "###############################################################################\n",
    "# Here we have the default interpolation, bilinear, since we did not\n",
    "# give :func:`~matplotlib.pyplot.imshow` any interpolation argument.\n",
    "#\n",
    "# Let's try some others. Here's \"nearest\", which does no interpolation.\n",
    "\n",
    "imgplot = plt.imshow(img, interpolation=\"nearest\")\n",
    "\n",
    "###############################################################################\n",
    "# and bicubic:\n",
    "\n",
    "imgplot = plt.imshow(img, interpolation=\"bicubic\")\n",
    "\n",
    "###############################################################################\n",
    "# Bicubic interpolation is often used when blowing up photos - people\n",
    "# tend to prefer blurry over pixelated.\n"
   ]
  },
  {
   "cell_type": "markdown",
   "metadata": {},
   "source": [
    "<hr>"
   ]
  },
  {
   "cell_type": "markdown",
   "metadata": {},
   "source": [
    "## Resources\n"
   ]
  },
  {
   "cell_type": "markdown",
   "metadata": {},
   "source": [
    "Resources used and great source for deeper learning:\n",
    "\n",
    "1. <a href=\"https://www.w3schools.com/python/python_comments.asp\">W3Schools.com</a> Python Comments\n",
    "\n",
    "2. <a href=\"https://beginnersbook.com/2018/01/python-comments/\">BeginnerBook</a> Comments in Python Programming\n",
    "\n",
    "3. Comments in Python: <a href=\"https://www.youtube.com/watch?v=0NO3MJkxm2g\">Best Practices</a> video.\n"
   ]
  }
 ],
 "metadata": {
  "kernelspec": {
   "display_name": "Python 3",
   "language": "python",
   "name": "python3"
  },
  "language_info": {
   "codemirror_mode": {
    "name": "ipython",
    "version": 3
   },
   "file_extension": ".py",
   "mimetype": "text/x-python",
   "name": "python",
   "nbconvert_exporter": "python",
   "pygments_lexer": "ipython3",
   "version": "3.7.3"
  }
 },
 "nbformat": 4,
 "nbformat_minor": 2
}
