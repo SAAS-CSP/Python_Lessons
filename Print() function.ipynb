{
 "cells": [
  {
   "cell_type": "markdown",
   "metadata": {},
   "source": [
    "# print()\n",
    "\n",
    "## Print function basics"
   ]
  },
  {
   "cell_type": "markdown",
   "metadata": {},
   "source": [
    "<hr>"
   ]
  },
  {
   "cell_type": "markdown",
   "metadata": {},
   "source": [
    "## print()\n",
    "\n",
    "The print function starts with the function name and is followed by parenthese.  Within the parenthese are the attributes if required.  In the example below, \"Hello world!\" is the attribute for the function.  See the results after the code section below."
   ]
  },
  {
   "cell_type": "code",
   "execution_count": 1,
   "metadata": {},
   "outputs": [
    {
     "name": "stdout",
     "output_type": "stream",
     "text": [
      "Hello world!\n"
     ]
    }
   ],
   "source": [
    "print(\"Hello world!\")"
   ]
  },
  {
   "cell_type": "markdown",
   "metadata": {},
   "source": [
    "Within the double-quotes, almost anything can be included. As long as it is alphanumeric. "
   ]
  },
  {
   "cell_type": "code",
   "execution_count": 2,
   "metadata": {},
   "outputs": [
    {
     "name": "stdout",
     "output_type": "stream",
     "text": [
      "#$%^&*_~~sdaa12+34567890_AbCdEfGhI,j,K,l,M,nOpQrStUvWxYz\n"
     ]
    }
   ],
   "source": [
    "print(\"#$%^&*_~~sdaa12+34567890_AbCdEfGhI,j,K,l,M,nOpQrStUvWxYz\")"
   ]
  },
  {
   "cell_type": "markdown",
   "metadata": {},
   "source": [
    "<div class=\"alert alert-block alert-info\">\n",
    "<b>Tip:</b> Excape characters are used to add special characters, commas ',' are used to join lines together, and concatenators '+' are used to merge two items together.  These advanced topics is discussed later.</div>"
   ]
  },
  {
   "cell_type": "markdown",
   "metadata": {},
   "source": [
    "<hr>"
   ]
  },
  {
   "cell_type": "markdown",
   "metadata": {},
   "source": [
    "## Printing Numbers\n",
    "\n",
    "Remember, anything within the \" \" will be printed.  "
   ]
  },
  {
   "cell_type": "code",
   "execution_count": 3,
   "metadata": {},
   "outputs": [
    {
     "name": "stdout",
     "output_type": "stream",
     "text": [
      "3+7\n"
     ]
    }
   ],
   "source": [
    "print(\"3+7\")"
   ]
  },
  {
   "cell_type": "markdown",
   "metadata": {},
   "source": [
    "To use math operations within a print() function remove the double-quotes. "
   ]
  },
  {
   "cell_type": "code",
   "execution_count": 4,
   "metadata": {},
   "outputs": [
    {
     "name": "stdout",
     "output_type": "stream",
     "text": [
      "10\n"
     ]
    }
   ],
   "source": [
    "print(3+7)"
   ]
  },
  {
   "cell_type": "markdown",
   "metadata": {},
   "source": [
    "<hr>"
   ]
  },
  {
   "cell_type": "markdown",
   "metadata": {},
   "source": [
    "## Printing variables\n",
    "\n",
    "Variables within a print statement can be sepparated different ways. A concatenator '+' or a comma ','  \n",
    "\n",
    "Notice the difference in the output in each example.\n"
   ]
  },
  {
   "cell_type": "code",
   "execution_count": 5,
   "metadata": {},
   "outputs": [
    {
     "name": "stdout",
     "output_type": "stream",
     "text": [
      "Dave32\n"
     ]
    }
   ],
   "source": [
    "myName = \"Dave\"       # String\n",
    "myAge = \"32\"          # String\n",
    "\n",
    "print(myName + myAge)\n"
   ]
  },
  {
   "cell_type": "code",
   "execution_count": 6,
   "metadata": {},
   "outputs": [
    {
     "name": "stdout",
     "output_type": "stream",
     "text": [
      "Dave 32\n"
     ]
    }
   ],
   "source": [
    "myName = \"Dave\"       # String\n",
    "myAge = \"32\"          # String\n",
    "\n",
    "print(myName, myAge)\n"
   ]
  },
  {
   "cell_type": "code",
   "execution_count": 7,
   "metadata": {},
   "outputs": [
    {
     "name": "stdout",
     "output_type": "stream",
     "text": [
      "Dave 32\n"
     ]
    }
   ],
   "source": [
    "myName = \"Dave\"       # String\n",
    "myAge = 32            # Integer\n",
    "\n",
    "print(myName, myAge)\n"
   ]
  },
  {
   "cell_type": "markdown",
   "metadata": {},
   "source": [
    "<div class=\"alert alert-block alert-warning\">\n",
    "<b>Warning:</b> Be aware of using the concatenator and variables of different types.  It is an easy problem to solve by casting. (i.e., str(myAge))\n",
    "</div>"
   ]
  },
  {
   "cell_type": "code",
   "execution_count": 8,
   "metadata": {},
   "outputs": [
    {
     "ename": "TypeError",
     "evalue": "can only concatenate str (not \"int\") to str",
     "output_type": "error",
     "traceback": [
      "\u001b[1;31m---------------------------------------------------------------------------\u001b[0m",
      "\u001b[1;31mTypeError\u001b[0m                                 Traceback (most recent call last)",
      "\u001b[1;32m<ipython-input-8-80ea5a0ec167>\u001b[0m in \u001b[0;36m<module>\u001b[1;34m\u001b[0m\n\u001b[0;32m      2\u001b[0m \u001b[0mmyAge\u001b[0m \u001b[1;33m=\u001b[0m \u001b[1;36m32\u001b[0m            \u001b[1;31m# Integer\u001b[0m\u001b[1;33m\u001b[0m\u001b[1;33m\u001b[0m\u001b[0m\n\u001b[0;32m      3\u001b[0m \u001b[1;33m\u001b[0m\u001b[0m\n\u001b[1;32m----> 4\u001b[1;33m \u001b[0mprint\u001b[0m\u001b[1;33m(\u001b[0m\u001b[0mmyName\u001b[0m \u001b[1;33m+\u001b[0m \u001b[0mmyAge\u001b[0m\u001b[1;33m)\u001b[0m\u001b[1;33m\u001b[0m\u001b[1;33m\u001b[0m\u001b[0m\n\u001b[0m",
      "\u001b[1;31mTypeError\u001b[0m: can only concatenate str (not \"int\") to str"
     ]
    }
   ],
   "source": [
    "myName = \"Dave\"       # String\n",
    "myAge = 32            # Integer\n",
    "\n",
    "print(myName + myAge)"
   ]
  },
  {
   "cell_type": "markdown",
   "metadata": {},
   "source": [
    "## Casting\n",
    "\n",
    "If the myAge variable is casted as a string then the code from the previous example will work. "
   ]
  },
  {
   "cell_type": "code",
   "execution_count": 9,
   "metadata": {},
   "outputs": [
    {
     "name": "stdout",
     "output_type": "stream",
     "text": [
      "Dave32\n"
     ]
    }
   ],
   "source": [
    "myName = \"Dave\"       # String\n",
    "myAge = 32            # Integer\n",
    "\n",
    "print(myName + str(myAge))"
   ]
  },
  {
   "cell_type": "markdown",
   "metadata": {},
   "source": [
    "<div class=\"alert alert-block alert-info\">\n",
    "<b>Tip:</b> Casting gives you the ability to change the data type to the type you want. Three types of casting functions: </div>"
   ]
  },
  {
   "cell_type": "markdown",
   "metadata": {},
   "source": [
    "   #### int() - constructs an integer number from an integer, a float, or a string\n",
    "   #### float() - constructs a float number from an integer, a float or a string (providing the string represents a float or an integer)\n",
    "   #### str() - constructs a string from a wide variety of data types, including strings, integer and float"
   ]
  },
  {
   "cell_type": "markdown",
   "metadata": {},
   "source": [
    "<hr>"
   ]
  },
  {
   "cell_type": "markdown",
   "metadata": {},
   "source": [
    "Resources used and great for deeper research:\n",
    "\n",
    "1. <a href=\"https://www.w3schools.com/python/python_casting.asp\">W3Schools.com</a>\n",
    "\n",
    "2. <a href=\"https://bdmpublications.com/code-portal/\">BDM Publications</a>\n",
    "\n",
    "3. Real Python - <a href=\"https://realpython.com/python-print/\">Guide to the print() function</a>\n"
   ]
  }
 ],
 "metadata": {
  "kernelspec": {
   "display_name": "Python 3",
   "language": "python",
   "name": "python3"
  },
  "language_info": {
   "codemirror_mode": {
    "name": "ipython",
    "version": 3
   },
   "file_extension": ".py",
   "mimetype": "text/x-python",
   "name": "python",
   "nbconvert_exporter": "python",
   "pygments_lexer": "ipython3",
   "version": "3.7.3"
  }
 },
 "nbformat": 4,
 "nbformat_minor": 2
}
