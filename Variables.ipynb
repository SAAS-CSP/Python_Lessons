{
 "cells": [
  {
   "cell_type": "markdown",
   "metadata": {},
   "source": [
    "# Variables<a id=\"top\"></a>\n",
    "\n",
    "   #### - Variable Rules\n",
    "   #### - Variable Names\n",
    "   #### - Variable Printing\n",
    "   #### - Variable TypeError\n",
    "   ##### - References"
   ]
  },
  {
   "cell_type": "markdown",
   "metadata": {},
   "source": [
    "<hr>"
   ]
  },
  {
   "cell_type": "markdown",
   "metadata": {},
   "source": [
    "## Variable Rules\n",
    "\n",
    "   #### Variables are a temporary storage area for data.\n",
    "   \n",
    "   #### Most languages require a command for creating a variable.  Python does not.\n",
    "   \n",
    "   #### As soon as you assign a value to a variable it is created."
   ]
  },
  {
   "cell_type": "markdown",
   "metadata": {},
   "source": [
    "<hr>"
   ]
  },
  {
   "cell_type": "markdown",
   "metadata": {},
   "source": [
    "## Variable Naming \n",
    "   \n",
    "   #### 1. Must start with a letter OR underscore\n",
    "   #### 2. Cannot start with a number\n",
    "   #### 3. Can only contain alpha-numeric characters and underscore (A-z, 0-9, _ )\n",
    "   #### 4. Variable names are case sensitive (Dave, DAve, DAVe, and DAVE are all different variable names)\n"
   ]
  },
  {
   "cell_type": "markdown",
   "metadata": {},
   "source": [
    "##### Legal"
   ]
  },
  {
   "cell_type": "code",
   "execution_count": 1,
   "metadata": {},
   "outputs": [],
   "source": [
    "#Legal variable names:\n",
    "myvar = \"Dave\"\n",
    "my_var = \"Dave\"\n",
    "_my_var = \"Dave\"\n",
    "myVar = \"Dave\"\n",
    "MYVAR = \"Dave\"\n",
    "myvar2 = \"Dave\""
   ]
  },
  {
   "cell_type": "code",
   "execution_count": 2,
   "metadata": {},
   "outputs": [],
   "source": [
    "#Legal variable names:\n",
    "\n",
    "Dave = \"All four of\"\n",
    "DAve = \"these variables\"\n",
    "DAVe = \"are different\"\n",
    "DAVE = \"variables\""
   ]
  },
  {
   "cell_type": "markdown",
   "metadata": {},
   "source": [
    "##### Illegal"
   ]
  },
  {
   "cell_type": "code",
   "execution_count": 3,
   "metadata": {},
   "outputs": [
    {
     "ename": "SyntaxError",
     "evalue": "invalid syntax (<ipython-input-3-43e8a6b13cf0>, line 3)",
     "output_type": "error",
     "traceback": [
      "\u001b[1;36m  File \u001b[1;32m\"<ipython-input-3-43e8a6b13cf0>\"\u001b[1;36m, line \u001b[1;32m3\u001b[0m\n\u001b[1;33m    2myvar = \"Dave\"\u001b[0m\n\u001b[1;37m         ^\u001b[0m\n\u001b[1;31mSyntaxError\u001b[0m\u001b[1;31m:\u001b[0m invalid syntax\n"
     ]
    }
   ],
   "source": [
    "#Illegal variable names:\n",
    "\n",
    "2myvar = \"Dave\""
   ]
  },
  {
   "cell_type": "code",
   "execution_count": 4,
   "metadata": {},
   "outputs": [
    {
     "ename": "SyntaxError",
     "evalue": "can't assign to operator (<ipython-input-4-6de069e3f210>, line 3)",
     "output_type": "error",
     "traceback": [
      "\u001b[1;36m  File \u001b[1;32m\"<ipython-input-4-6de069e3f210>\"\u001b[1;36m, line \u001b[1;32m3\u001b[0m\n\u001b[1;33m    my-var = \"Dave\"\u001b[0m\n\u001b[1;37m                   ^\u001b[0m\n\u001b[1;31mSyntaxError\u001b[0m\u001b[1;31m:\u001b[0m can't assign to operator\n"
     ]
    }
   ],
   "source": [
    "#Illegal variable names:\n",
    "\n",
    "my-var = \"Dave\""
   ]
  },
  {
   "cell_type": "code",
   "execution_count": 5,
   "metadata": {},
   "outputs": [
    {
     "ename": "SyntaxError",
     "evalue": "invalid syntax (<ipython-input-5-39775f7c6a16>, line 3)",
     "output_type": "error",
     "traceback": [
      "\u001b[1;36m  File \u001b[1;32m\"<ipython-input-5-39775f7c6a16>\"\u001b[1;36m, line \u001b[1;32m3\u001b[0m\n\u001b[1;33m    my var = \"Dave\"\u001b[0m\n\u001b[1;37m         ^\u001b[0m\n\u001b[1;31mSyntaxError\u001b[0m\u001b[1;31m:\u001b[0m invalid syntax\n"
     ]
    }
   ],
   "source": [
    "#Illegal variable names:\n",
    "\n",
    "my var = \"Dave\""
   ]
  },
  {
   "cell_type": "markdown",
   "metadata": {},
   "source": [
    "<hr>"
   ]
  },
  {
   "cell_type": "markdown",
   "metadata": {},
   "source": [
    "## Boolean Variables\n",
    "\n",
    "Sometimes we just need to know if something is true or false.  Python has a built-in variable to do just that.  The boolean variable will be in either one of two states.  True or false. "
   ]
  },
  {
   "cell_type": "code",
   "execution_count": 16,
   "metadata": {},
   "outputs": [
    {
     "name": "stdout",
     "output_type": "stream",
     "text": [
      "False\n",
      "<class 'bool'>\n"
     ]
    }
   ],
   "source": [
    "is_true = False\n",
    "\n",
    "print(is_true)\n",
    "print(type(is_true))"
   ]
  },
  {
   "cell_type": "code",
   "execution_count": 18,
   "metadata": {},
   "outputs": [
    {
     "name": "stdout",
     "output_type": "stream",
     "text": [
      "False\n",
      "False\n",
      "True\n"
     ]
    }
   ],
   "source": [
    "print(5 > 10)\n",
    "print(10 == 5)\n",
    "print(10 < 51)"
   ]
  },
  {
   "cell_type": "markdown",
   "metadata": {},
   "source": [
    "##### True\n",
    "\n",
    "          Almost any value is evaluated to True if it has some sort of content.\n",
    "\n",
    "* String = True, except empty strings.\n",
    "* Number = True, except 0.\n",
    "* List, Tuple, Set, and Dictionary are True, except empty ones\n",
    "<br>\n"
   ]
  },
  {
   "cell_type": "code",
   "execution_count": 20,
   "metadata": {},
   "outputs": [
    {
     "name": "stdout",
     "output_type": "stream",
     "text": [
      "True\n",
      "True\n",
      "True\n"
     ]
    }
   ],
   "source": [
    "print(bool(\"abc\"))\n",
    "print(bool(123))\n",
    "print(bool([\"apple\", \"cherry\", \"banana\"]))"
   ]
  },
  {
   "cell_type": "markdown",
   "metadata": {},
   "source": [
    "##### False\n",
    "\n",
    "          A false boolean is anythin False, None, 0, or empty."
   ]
  },
  {
   "cell_type": "code",
   "execution_count": 22,
   "metadata": {},
   "outputs": [
    {
     "name": "stdout",
     "output_type": "stream",
     "text": [
      "False\n",
      "False\n",
      "False\n",
      "False\n",
      "False\n",
      "False\n",
      "False\n"
     ]
    }
   ],
   "source": [
    "print(bool(False))\n",
    "print(bool(None))\n",
    "print(bool(0))\n",
    "print(bool(\"\"))\n",
    "print(bool(()))\n",
    "print(bool([]))\n",
    "print(bool({}))"
   ]
  },
  {
   "cell_type": "markdown",
   "metadata": {},
   "source": [
    "<hr>"
   ]
  },
  {
   "cell_type": "markdown",
   "metadata": {},
   "source": [
    "## Printing Variables\n",
    "\n",
    "Printing several string variables together can be done with a concatenator '+' or a comma ',' within the print function.  Notice the effects on the output."
   ]
  },
  {
   "cell_type": "code",
   "execution_count": 6,
   "metadata": {},
   "outputs": [
    {
     "name": "stdout",
     "output_type": "stream",
     "text": [
      "Dave Beekeeper\n"
     ]
    }
   ],
   "source": [
    "playerName = \"Dave\"\n",
    "playerTitle = \"Beekeeper\"\n",
    "\n",
    "print(playerName, playerTitle)"
   ]
  },
  {
   "cell_type": "code",
   "execution_count": 7,
   "metadata": {},
   "outputs": [
    {
     "name": "stdout",
     "output_type": "stream",
     "text": [
      "DaveBeekeeper\n"
     ]
    }
   ],
   "source": [
    "playerName = \"Dave\"\n",
    "playerTitle = \"Beekeeper\"\n",
    "\n",
    "print(playerName + playerTitle)"
   ]
  },
  {
   "cell_type": "code",
   "execution_count": 8,
   "metadata": {},
   "outputs": [
    {
     "name": "stdout",
     "output_type": "stream",
     "text": [
      "Welcome, Dave your title is a Beekeeper.\n"
     ]
    }
   ],
   "source": [
    "playerName = \"Dave\"\n",
    "playerTitle = \"Beekeeper\"\n",
    "\n",
    "print(\"Welcome, \"+ playerName + \" your title is a \" + playerTitle + \".\")"
   ]
  },
  {
   "cell_type": "markdown",
   "metadata": {},
   "source": [
    "<hr>"
   ]
  },
  {
   "cell_type": "markdown",
   "metadata": {},
   "source": [
    "## Variable TypeError\n",
    "\n",
    "Below we start using and printing the playerLevel variable. Using a comma does not cause any issues.\n"
   ]
  },
  {
   "cell_type": "code",
   "execution_count": 9,
   "metadata": {},
   "outputs": [
    {
     "name": "stdout",
     "output_type": "stream",
     "text": [
      "Dave Beekeeper 13\n"
     ]
    }
   ],
   "source": [
    "playerName = \"Dave\"\n",
    "playerTitle = \"Beekeeper\"\n",
    "playerLevel = 13\n",
    "\n",
    "print(playerName, playerTitle, playerLevel)"
   ]
  },
  {
   "cell_type": "markdown",
   "metadata": {},
   "source": [
    "However, when we try to concatenate two variables of different types we get an error!"
   ]
  },
  {
   "cell_type": "code",
   "execution_count": 10,
   "metadata": {},
   "outputs": [
    {
     "ename": "TypeError",
     "evalue": "can only concatenate str (not \"int\") to str",
     "output_type": "error",
     "traceback": [
      "\u001b[1;31m---------------------------------------------------------------------------\u001b[0m",
      "\u001b[1;31mTypeError\u001b[0m                                 Traceback (most recent call last)",
      "\u001b[1;32m<ipython-input-10-2a86c2d9f80b>\u001b[0m in \u001b[0;36m<module>\u001b[1;34m\u001b[0m\n\u001b[0;32m      3\u001b[0m \u001b[0mplayerLevel\u001b[0m \u001b[1;33m=\u001b[0m \u001b[1;36m13\u001b[0m\u001b[1;33m\u001b[0m\u001b[1;33m\u001b[0m\u001b[0m\n\u001b[0;32m      4\u001b[0m \u001b[1;33m\u001b[0m\u001b[0m\n\u001b[1;32m----> 5\u001b[1;33m \u001b[0mprint\u001b[0m\u001b[1;33m(\u001b[0m\u001b[1;34m\"Welcome, \"\u001b[0m \u001b[1;33m+\u001b[0m \u001b[0mplayerName\u001b[0m \u001b[1;33m+\u001b[0m \u001b[1;34m\" you are level \"\u001b[0m \u001b[1;33m+\u001b[0m \u001b[0mplayerLevel\u001b[0m\u001b[1;33m)\u001b[0m\u001b[1;33m\u001b[0m\u001b[1;33m\u001b[0m\u001b[0m\n\u001b[0m",
      "\u001b[1;31mTypeError\u001b[0m: can only concatenate str (not \"int\") to str"
     ]
    }
   ],
   "source": [
    "playerName = \"Dave\"\n",
    "playerTitle = \"Beekeeper\"\n",
    "playerLevel = 13\n",
    "\n",
    "print(\"Welcome, \" + playerName + \" you are level \" + playerLevel)"
   ]
  },
  {
   "cell_type": "markdown",
   "metadata": {},
   "source": [
    "Several ways to correct the TypeError issue.  First, is to use a comma instead of the conatenator + symbol. "
   ]
  },
  {
   "cell_type": "code",
   "execution_count": 11,
   "metadata": {},
   "outputs": [
    {
     "name": "stdout",
     "output_type": "stream",
     "text": [
      "Welcome, Dave you are level 13\n"
     ]
    }
   ],
   "source": [
    "playerName = \"Dave\"\n",
    "playerTitle = \"Beekeeper\"\n",
    "playerLevel = 13\n",
    "\n",
    "print(\"Welcome, \" + playerName + \" you are level\", playerLevel)"
   ]
  },
  {
   "cell_type": "markdown",
   "metadata": {},
   "source": [
    "The second way is to cast the variable as another data type.  Below we cast the variable playerLevel as a string."
   ]
  },
  {
   "cell_type": "code",
   "execution_count": 12,
   "metadata": {},
   "outputs": [
    {
     "name": "stdout",
     "output_type": "stream",
     "text": [
      "Welcome, Dave you are level 13\n"
     ]
    }
   ],
   "source": [
    "playerName = \"Dave\"\n",
    "playerTitle = \"Beekeeper\"\n",
    "playerLevel = 13\n",
    "\n",
    "print(\"Welcome, \" + playerName + \" you are level \" + str(playerLevel))"
   ]
  },
  {
   "cell_type": "markdown",
   "metadata": {},
   "source": [
    "<hr>"
   ]
  },
  {
   "cell_type": "markdown",
   "metadata": {},
   "source": [
    "## Resources<a id=\"resources\"><a/>"
   ]
  },
  {
   "cell_type": "markdown",
   "metadata": {},
   "source": [
    "#### Sources for deeper learning:\n",
    "\n",
    "   1. <a href=\"https://www.w3schools.com/python/python_variables.asp\">W3Schools.com</a> Python Variables\n",
    "\n",
    "\n",
    "   2. Python <a href=\"https://www.youtube.com/watch?v=cQT33yu9pY8\">Variables:</a> - Python Tutorial for Beginners with Examples.\n",
    "\n",
    "\n",
    "#### Sources used in this document:\n",
    "  \n",
    "   Python <a href=\"https://www.w3schools.com/python/python_booleans.asp\">Booleans</a> from W3Schools.com\n",
    "   \n",
    "   Python <a href=\"https://www.w3schools.com/python/python_variables.asp\">Variables</a> from W3Schools.com\n",
    "   \n",
    "   <a href=\"https://realpython.com/python-variables/\">Variables</a> in Python, from RealPython.com \n"
   ]
  }
 ],
 "metadata": {
  "kernelspec": {
   "display_name": "Python 3",
   "language": "python",
   "name": "python3"
  },
  "language_info": {
   "codemirror_mode": {
    "name": "ipython",
    "version": 3
   },
   "file_extension": ".py",
   "mimetype": "text/x-python",
   "name": "python",
   "nbconvert_exporter": "python",
   "pygments_lexer": "ipython3",
   "version": "3.7.3"
  }
 },
 "nbformat": 4,
 "nbformat_minor": 2
}
